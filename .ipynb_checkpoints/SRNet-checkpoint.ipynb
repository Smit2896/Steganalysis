{
 "cells": [
  {
   "cell_type": "code",
   "execution_count": 1,
   "metadata": {},
   "outputs": [
    {
     "name": "stderr",
     "output_type": "stream",
     "text": [
      "Using TensorFlow backend.\n"
     ]
    }
   ],
   "source": [
    "import numpy as np\n",
    "from PIL import Image\n",
    "import os\n",
    "import random\n",
    "import glob\n",
    "import keras \n",
    "from keras import Model\n",
    "from keras.layers import Input, Dense, ReLU ,Conv2D, Flatten , Add, Softmax , AveragePooling2D, BatchNormalization, GlobalAveragePooling2D\n",
    "from keras.optimizers import Adam\n",
    "from keras.losses import binary_crossentropy , categorical_crossentropy"
   ]
  },
  {
   "cell_type": "code",
   "execution_count": 2,
   "metadata": {},
   "outputs": [],
   "source": [
    "def layer_type1(inputs,filter_size):\n",
    "    x = Conv2D(kernel_size=(3,3),\n",
    "               filters= filter_size,\n",
    "               padding=\"same\",input_shape = (256,256))(inputs)\n",
    "    x = BatchNormalization()(x)\n",
    "    x = ReLU()(x)\n",
    "    return x\n",
    "\n",
    "def layer_type2(inputs,filter_size=16):\n",
    "    x = layer_type1(inputs,filter_size=filter_size)\n",
    "    \n",
    "    x = Conv2D(kernel_size=(3,3),\n",
    "               filters= filter_size,\n",
    "               padding=\"same\")(x)\n",
    "    \n",
    "    x = BatchNormalization()(x)\n",
    "    \n",
    "    out = Add()([x, inputs])\n",
    "    \n",
    "    return out\n",
    "\n",
    "def layer_type3(inputs,filter_size):\n",
    "    \n",
    "    x = layer_type1(inputs,filter_size=filter_size)\n",
    "    \n",
    "    x = Conv2D(kernel_size=(3,3),\n",
    "               filters= filter_size,\n",
    "               padding=\"same\")(x)\n",
    "    \n",
    "    x = BatchNormalization()(x)\n",
    "    \n",
    "    x = AveragePooling2D(pool_size=(2,2),strides=2)(x)\n",
    "    \n",
    "    y = Conv2D(kernel_size=(1,1),\n",
    "               filters= filter_size,\n",
    "               padding=\"same\",strides=2)(inputs)\n",
    "    y = BatchNormalization()(y)\n",
    "    \n",
    "    out = Add()([x, y])\n",
    "    \n",
    "    return out\n",
    "\n",
    "def layer_type4(inputs,filter_size=512):\n",
    "    x = layer_type1(inputs,filter_size=filter_size)\n",
    "    x = Conv2D(kernel_size=(16,16),\n",
    "               filters= filter_size,\n",
    "               padding=\"same\")(x)\n",
    "    x = BatchNormalization()(x)\n",
    "    x = GlobalAveragePooling2D()(x)\n",
    "    return x"
   ]
  },
  {
   "cell_type": "code",
   "execution_count": 20,
   "metadata": {},
   "outputs": [],
   "source": [
    "def create_SRNet():\n",
    "    init_input = Input(shape=(256,256,1))\n",
    "    \n",
    "    L1 = layer_type1(init_input,filter_size=64)\n",
    "    L2 = layer_type1(L1,filter_size=16)\n",
    "    \n",
    "    L3 = layer_type2(L2)\n",
    "    L4 = layer_type2(L3)\n",
    "    L5 = layer_type2(L4)\n",
    "    L6 = layer_type2(L5)\n",
    "    L7 = layer_type2(L6)\n",
    "    \n",
    "    L8 = layer_type3(L7,filter_size=16)\n",
    "    L9 = layer_type3(L8,filter_size=64)\n",
    "    L10 = layer_type3(L9,filter_size=128)\n",
    "    L11 = layer_type3(L10,filter_size=256)\n",
    "    \n",
    "    L12 = layer_type4(L11,filter_size=512)\n",
    "    \n",
    "    #L13 = Flatten()(L12)\n",
    "    L14 = Dense(2)(L12)\n",
    "    output = Softmax()(L14)\n",
    "    \n",
    "    model = Model(init_input,output,)\n",
    "    model._name = \"SRNet\"\n",
    "    model.compile(optimizer = Adam(lr=0.01) , \n",
    "               loss = \"binary_crossentropy\" , metrics = ['accuracy'])\n",
    "    \n",
    "    return model"
   ]
  },
  {
   "cell_type": "code",
   "execution_count": 21,
   "metadata": {},
   "outputs": [
    {
     "name": "stdout",
     "output_type": "stream",
     "text": [
      "Model: \"SRNet\"\n",
      "__________________________________________________________________________________________________\n",
      "Layer (type)                    Output Shape         Param #     Connected to                     \n",
      "==================================================================================================\n",
      "input_2 (InputLayer)            [(None, 256, 256, 1) 0                                            \n",
      "__________________________________________________________________________________________________\n",
      "conv2d_26 (Conv2D)              (None, 256, 256, 64) 640         input_2[0][0]                    \n",
      "__________________________________________________________________________________________________\n",
      "batch_normalization_26 (BatchNo (None, 256, 256, 64) 256         conv2d_26[0][0]                  \n",
      "__________________________________________________________________________________________________\n",
      "re_lu_12 (ReLU)                 (None, 256, 256, 64) 0           batch_normalization_26[0][0]     \n",
      "__________________________________________________________________________________________________\n",
      "conv2d_27 (Conv2D)              (None, 256, 256, 16) 9232        re_lu_12[0][0]                   \n",
      "__________________________________________________________________________________________________\n",
      "batch_normalization_27 (BatchNo (None, 256, 256, 16) 64          conv2d_27[0][0]                  \n",
      "__________________________________________________________________________________________________\n",
      "re_lu_13 (ReLU)                 (None, 256, 256, 16) 0           batch_normalization_27[0][0]     \n",
      "__________________________________________________________________________________________________\n",
      "conv2d_28 (Conv2D)              (None, 256, 256, 16) 2320        re_lu_13[0][0]                   \n",
      "__________________________________________________________________________________________________\n",
      "batch_normalization_28 (BatchNo (None, 256, 256, 16) 64          conv2d_28[0][0]                  \n",
      "__________________________________________________________________________________________________\n",
      "re_lu_14 (ReLU)                 (None, 256, 256, 16) 0           batch_normalization_28[0][0]     \n",
      "__________________________________________________________________________________________________\n",
      "conv2d_29 (Conv2D)              (None, 256, 256, 16) 2320        re_lu_14[0][0]                   \n",
      "__________________________________________________________________________________________________\n",
      "batch_normalization_29 (BatchNo (None, 256, 256, 16) 64          conv2d_29[0][0]                  \n",
      "__________________________________________________________________________________________________\n",
      "add_9 (Add)                     (None, 256, 256, 16) 0           batch_normalization_29[0][0]     \n",
      "                                                                 re_lu_13[0][0]                   \n",
      "__________________________________________________________________________________________________\n",
      "conv2d_30 (Conv2D)              (None, 256, 256, 16) 2320        add_9[0][0]                      \n",
      "__________________________________________________________________________________________________\n",
      "batch_normalization_30 (BatchNo (None, 256, 256, 16) 64          conv2d_30[0][0]                  \n",
      "__________________________________________________________________________________________________\n",
      "re_lu_15 (ReLU)                 (None, 256, 256, 16) 0           batch_normalization_30[0][0]     \n",
      "__________________________________________________________________________________________________\n",
      "conv2d_31 (Conv2D)              (None, 256, 256, 16) 2320        re_lu_15[0][0]                   \n",
      "__________________________________________________________________________________________________\n",
      "batch_normalization_31 (BatchNo (None, 256, 256, 16) 64          conv2d_31[0][0]                  \n",
      "__________________________________________________________________________________________________\n",
      "add_10 (Add)                    (None, 256, 256, 16) 0           batch_normalization_31[0][0]     \n",
      "                                                                 add_9[0][0]                      \n",
      "__________________________________________________________________________________________________\n",
      "conv2d_32 (Conv2D)              (None, 256, 256, 16) 2320        add_10[0][0]                     \n",
      "__________________________________________________________________________________________________\n",
      "batch_normalization_32 (BatchNo (None, 256, 256, 16) 64          conv2d_32[0][0]                  \n",
      "__________________________________________________________________________________________________\n",
      "re_lu_16 (ReLU)                 (None, 256, 256, 16) 0           batch_normalization_32[0][0]     \n",
      "__________________________________________________________________________________________________\n",
      "conv2d_33 (Conv2D)              (None, 256, 256, 16) 2320        re_lu_16[0][0]                   \n",
      "__________________________________________________________________________________________________\n",
      "batch_normalization_33 (BatchNo (None, 256, 256, 16) 64          conv2d_33[0][0]                  \n",
      "__________________________________________________________________________________________________\n",
      "add_11 (Add)                    (None, 256, 256, 16) 0           batch_normalization_33[0][0]     \n",
      "                                                                 add_10[0][0]                     \n",
      "__________________________________________________________________________________________________\n",
      "conv2d_34 (Conv2D)              (None, 256, 256, 16) 2320        add_11[0][0]                     \n",
      "__________________________________________________________________________________________________\n",
      "batch_normalization_34 (BatchNo (None, 256, 256, 16) 64          conv2d_34[0][0]                  \n",
      "__________________________________________________________________________________________________\n",
      "re_lu_17 (ReLU)                 (None, 256, 256, 16) 0           batch_normalization_34[0][0]     \n",
      "__________________________________________________________________________________________________\n",
      "conv2d_35 (Conv2D)              (None, 256, 256, 16) 2320        re_lu_17[0][0]                   \n",
      "__________________________________________________________________________________________________\n",
      "batch_normalization_35 (BatchNo (None, 256, 256, 16) 64          conv2d_35[0][0]                  \n",
      "__________________________________________________________________________________________________\n",
      "add_12 (Add)                    (None, 256, 256, 16) 0           batch_normalization_35[0][0]     \n",
      "                                                                 add_11[0][0]                     \n",
      "__________________________________________________________________________________________________\n",
      "conv2d_36 (Conv2D)              (None, 256, 256, 16) 2320        add_12[0][0]                     \n",
      "__________________________________________________________________________________________________\n",
      "batch_normalization_36 (BatchNo (None, 256, 256, 16) 64          conv2d_36[0][0]                  \n",
      "__________________________________________________________________________________________________\n",
      "re_lu_18 (ReLU)                 (None, 256, 256, 16) 0           batch_normalization_36[0][0]     \n",
      "__________________________________________________________________________________________________\n",
      "conv2d_37 (Conv2D)              (None, 256, 256, 16) 2320        re_lu_18[0][0]                   \n",
      "__________________________________________________________________________________________________\n",
      "batch_normalization_37 (BatchNo (None, 256, 256, 16) 64          conv2d_37[0][0]                  \n",
      "__________________________________________________________________________________________________\n",
      "add_13 (Add)                    (None, 256, 256, 16) 0           batch_normalization_37[0][0]     \n",
      "                                                                 add_12[0][0]                     \n",
      "__________________________________________________________________________________________________\n",
      "conv2d_38 (Conv2D)              (None, 256, 256, 16) 2320        add_13[0][0]                     \n",
      "__________________________________________________________________________________________________\n",
      "batch_normalization_38 (BatchNo (None, 256, 256, 16) 64          conv2d_38[0][0]                  \n",
      "__________________________________________________________________________________________________\n",
      "re_lu_19 (ReLU)                 (None, 256, 256, 16) 0           batch_normalization_38[0][0]     \n",
      "__________________________________________________________________________________________________\n",
      "conv2d_39 (Conv2D)              (None, 256, 256, 16) 2320        re_lu_19[0][0]                   \n",
      "__________________________________________________________________________________________________\n",
      "batch_normalization_39 (BatchNo (None, 256, 256, 16) 64          conv2d_39[0][0]                  \n",
      "__________________________________________________________________________________________________\n",
      "conv2d_40 (Conv2D)              (None, 128, 128, 16) 272         add_13[0][0]                     \n",
      "__________________________________________________________________________________________________\n",
      "average_pooling2d_4 (AveragePoo (None, 128, 128, 16) 0           batch_normalization_39[0][0]     \n",
      "__________________________________________________________________________________________________\n",
      "batch_normalization_40 (BatchNo (None, 128, 128, 16) 64          conv2d_40[0][0]                  \n",
      "__________________________________________________________________________________________________\n",
      "add_14 (Add)                    (None, 128, 128, 16) 0           average_pooling2d_4[0][0]        \n",
      "                                                                 batch_normalization_40[0][0]     \n",
      "__________________________________________________________________________________________________\n",
      "conv2d_41 (Conv2D)              (None, 128, 128, 64) 9280        add_14[0][0]                     \n",
      "__________________________________________________________________________________________________\n",
      "batch_normalization_41 (BatchNo (None, 128, 128, 64) 256         conv2d_41[0][0]                  \n",
      "__________________________________________________________________________________________________\n",
      "re_lu_20 (ReLU)                 (None, 128, 128, 64) 0           batch_normalization_41[0][0]     \n",
      "__________________________________________________________________________________________________\n",
      "conv2d_42 (Conv2D)              (None, 128, 128, 64) 36928       re_lu_20[0][0]                   \n",
      "__________________________________________________________________________________________________\n",
      "batch_normalization_42 (BatchNo (None, 128, 128, 64) 256         conv2d_42[0][0]                  \n",
      "__________________________________________________________________________________________________\n",
      "conv2d_43 (Conv2D)              (None, 64, 64, 64)   1088        add_14[0][0]                     \n",
      "__________________________________________________________________________________________________\n",
      "average_pooling2d_5 (AveragePoo (None, 64, 64, 64)   0           batch_normalization_42[0][0]     \n",
      "__________________________________________________________________________________________________\n",
      "batch_normalization_43 (BatchNo (None, 64, 64, 64)   256         conv2d_43[0][0]                  \n",
      "__________________________________________________________________________________________________\n",
      "add_15 (Add)                    (None, 64, 64, 64)   0           average_pooling2d_5[0][0]        \n",
      "                                                                 batch_normalization_43[0][0]     \n",
      "__________________________________________________________________________________________________\n",
      "conv2d_44 (Conv2D)              (None, 64, 64, 128)  73856       add_15[0][0]                     \n",
      "__________________________________________________________________________________________________\n",
      "batch_normalization_44 (BatchNo (None, 64, 64, 128)  512         conv2d_44[0][0]                  \n",
      "__________________________________________________________________________________________________\n",
      "re_lu_21 (ReLU)                 (None, 64, 64, 128)  0           batch_normalization_44[0][0]     \n",
      "__________________________________________________________________________________________________\n",
      "conv2d_45 (Conv2D)              (None, 64, 64, 128)  147584      re_lu_21[0][0]                   \n",
      "__________________________________________________________________________________________________\n",
      "batch_normalization_45 (BatchNo (None, 64, 64, 128)  512         conv2d_45[0][0]                  \n",
      "__________________________________________________________________________________________________\n",
      "conv2d_46 (Conv2D)              (None, 32, 32, 128)  8320        add_15[0][0]                     \n",
      "__________________________________________________________________________________________________\n",
      "average_pooling2d_6 (AveragePoo (None, 32, 32, 128)  0           batch_normalization_45[0][0]     \n",
      "__________________________________________________________________________________________________\n",
      "batch_normalization_46 (BatchNo (None, 32, 32, 128)  512         conv2d_46[0][0]                  \n",
      "__________________________________________________________________________________________________\n",
      "add_16 (Add)                    (None, 32, 32, 128)  0           average_pooling2d_6[0][0]        \n",
      "                                                                 batch_normalization_46[0][0]     \n",
      "__________________________________________________________________________________________________\n",
      "conv2d_47 (Conv2D)              (None, 32, 32, 256)  295168      add_16[0][0]                     \n",
      "__________________________________________________________________________________________________\n",
      "batch_normalization_47 (BatchNo (None, 32, 32, 256)  1024        conv2d_47[0][0]                  \n",
      "__________________________________________________________________________________________________\n",
      "re_lu_22 (ReLU)                 (None, 32, 32, 256)  0           batch_normalization_47[0][0]     \n",
      "__________________________________________________________________________________________________\n",
      "conv2d_48 (Conv2D)              (None, 32, 32, 256)  590080      re_lu_22[0][0]                   \n",
      "__________________________________________________________________________________________________\n",
      "batch_normalization_48 (BatchNo (None, 32, 32, 256)  1024        conv2d_48[0][0]                  \n",
      "__________________________________________________________________________________________________\n",
      "conv2d_49 (Conv2D)              (None, 16, 16, 256)  33024       add_16[0][0]                     \n",
      "__________________________________________________________________________________________________\n",
      "average_pooling2d_7 (AveragePoo (None, 16, 16, 256)  0           batch_normalization_48[0][0]     \n",
      "__________________________________________________________________________________________________\n",
      "batch_normalization_49 (BatchNo (None, 16, 16, 256)  1024        conv2d_49[0][0]                  \n",
      "__________________________________________________________________________________________________\n",
      "add_17 (Add)                    (None, 16, 16, 256)  0           average_pooling2d_7[0][0]        \n",
      "                                                                 batch_normalization_49[0][0]     \n",
      "__________________________________________________________________________________________________\n",
      "conv2d_50 (Conv2D)              (None, 16, 16, 512)  1180160     add_17[0][0]                     \n",
      "__________________________________________________________________________________________________\n",
      "batch_normalization_50 (BatchNo (None, 16, 16, 512)  2048        conv2d_50[0][0]                  \n",
      "__________________________________________________________________________________________________\n",
      "re_lu_23 (ReLU)                 (None, 16, 16, 512)  0           batch_normalization_50[0][0]     \n",
      "__________________________________________________________________________________________________\n",
      "conv2d_51 (Conv2D)              (None, 16, 16, 512)  67109376    re_lu_23[0][0]                   \n",
      "__________________________________________________________________________________________________\n",
      "batch_normalization_51 (BatchNo (None, 16, 16, 512)  2048        conv2d_51[0][0]                  \n",
      "__________________________________________________________________________________________________\n",
      "global_average_pooling2d_1 (Glo (None, 512)          0           batch_normalization_51[0][0]     \n",
      "__________________________________________________________________________________________________\n",
      "dense_1 (Dense)                 (None, 2)            1026        global_average_pooling2d_1[0][0] \n",
      "__________________________________________________________________________________________________\n",
      "softmax_1 (Softmax)             (None, 2)            0           dense_1[0][0]                    \n",
      "==================================================================================================\n",
      "Total params: 69,534,498\n",
      "Trainable params: 69,529,186\n",
      "Non-trainable params: 5,312\n",
      "__________________________________________________________________________________________________\n"
     ]
    }
   ],
   "source": [
    "model = create_SRNet()\n",
    "model.summary()"
   ]
  },
  {
   "cell_type": "code",
   "execution_count": null,
   "metadata": {},
   "outputs": [],
   "source": [
    "train = os.listdir('/home/iamsmit96/dataset/boss/train/')\n",
    "validation = os.listdir('/home/iamsmit96/dataset/boss/validation/')\n",
    "test = os.listdir('/home/iamsmit96/dataset/boss/test/')\n",
    "validation"
   ]
  },
  {
   "cell_type": "code",
   "execution_count": null,
   "metadata": {},
   "outputs": [],
   "source": [
    "pwd"
   ]
  },
  {
   "cell_type": "code",
   "execution_count": null,
   "metadata": {},
   "outputs": [],
   "source": [
    "os.listdir('/home/iamsmit96/dataset/boss/test/')"
   ]
  },
  {
   "cell_type": "code",
   "execution_count": null,
   "metadata": {},
   "outputs": [],
   "source": [
    "def get_data(typee,listt):\n",
    "    image_data =[]\n",
    "    label=[]\n",
    "    if listt == train:\n",
    "        num = 100\n",
    "    else:\n",
    "        num = 100\n",
    "    for i in range(0,num):\n",
    "        image1 = np.asarray(Image.open('/home/iamsmit96/dataset/boss/{}/cover/{}'.format(typee,listt[i])))  \n",
    "        image2 = np.asarray(Image.open('/home/iamsmit96/dataset/boss/{}/stego/{}'.format(typee,listt[i])))\n",
    "        image_data.append([image1,0])\n",
    "        image_data.append([image2,1])\n",
    "    return image_data"
   ]
  },
  {
   "cell_type": "code",
   "execution_count": null,
   "metadata": {},
   "outputs": [],
   "source": [
    "path = '/home/iamsmit96/dataset/boss/'"
   ]
  },
  {
   "cell_type": "code",
   "execution_count": 7,
   "metadata": {},
   "outputs": [],
   "source": [
    "def get_DATA(type_of_data):\n",
    "    image_data=[]\n",
    "    path = '/home/iamsmit96/dataset/boss/'\n",
    "    image_data =[]\n",
    "    if type_of_data == 'train':\n",
    "        directory_t_c = glob.glob(path + 'train/cover/*')[:150]\n",
    "        for i in range(0,len(directory_t_c)):\n",
    "            print(i)\n",
    "            image = np.asarray(Image.open(directory_t_c[i]))\n",
    "            image_data.append([image,0])\n",
    "        \n",
    "        directory_t_s = glob.glob(path + 'train/stego/*')[:250]\n",
    "        for i in range(0,len(directory_t_s)):\n",
    "            image = np.asarray(Image.open(directory_t_s[i]))\n",
    "            image_data.append([image,1])\n",
    "    \n",
    "    elif type_of_data == 'validation':\n",
    "        directory_v_c = glob.glob(path + 'validation/cover/*')[:50]\n",
    "        for i in range(0,len(directory_v_c)):\n",
    "            image = np.asarray(Image.open(directory_v_c[i]))\n",
    "            image_data.append([image,0])\n",
    "        \n",
    "        directory_v_s = glob.glob(path + 'validation/stego/*')[:50]\n",
    "        for i in range(0,len(directory_v_s)):\n",
    "            image = np.asarray(Image.open(directory_v_s[i]))\n",
    "            image_data.append([image,1])\n",
    "            \n",
    "    else:\n",
    "        directory_te_c = glob.glob(path + 'test/cover/*')[:50]\n",
    "        for i in range(0,len(directory_te_c)):\n",
    "            image = np.asarray(Image.open(directory_te_c[i]))\n",
    "            image_data.append([image,0])\n",
    "        \n",
    "        directory_te_s = glob.glob(path + 'test/stego/*')[:50]\n",
    "        for i in range(0,len(directory_te_s)):\n",
    "            image = np.asarray(Image.open(directory_te_s[i]))\n",
    "            image_data.append([image,1])\n",
    "    random.seed(101)\n",
    "    return random.sample(image_data,len(image_data))"
   ]
  },
  {
   "cell_type": "code",
   "execution_count": null,
   "metadata": {},
   "outputs": [],
   "source": [
    "%%time\n",
    "#train_set = get_DATA('train')"
   ]
  },
  {
   "cell_type": "code",
   "execution_count": 8,
   "metadata": {},
   "outputs": [
    {
     "name": "stdout",
     "output_type": "stream",
     "text": [
      "CPU times: user 40.5 ms, sys: 36.8 ms, total: 77.3 ms\n",
      "Wall time: 56.8 s\n"
     ]
    }
   ],
   "source": [
    "%%time\n",
    "#validation = get_DATA('validation')"
   ]
  },
  {
   "cell_type": "code",
   "execution_count": 9,
   "metadata": {},
   "outputs": [
    {
     "name": "stdout",
     "output_type": "stream",
     "text": [
      "CPU times: user 37 ms, sys: 41.7 ms, total: 78.7 ms\n",
      "Wall time: 1min 11s\n"
     ]
    }
   ],
   "source": [
    "%%time\n",
    "#test = get_DATA('test')"
   ]
  },
  {
   "cell_type": "code",
   "execution_count": 10,
   "metadata": {},
   "outputs": [],
   "source": [
    "x_train = []\n",
    "y_train = []\n",
    "x_val = []\n",
    "y_val = []\n",
    "x_test =[]\n",
    "y_test = []"
   ]
  },
  {
   "cell_type": "code",
   "execution_count": 11,
   "metadata": {},
   "outputs": [],
   "source": [
    "for feature, label in train_set:\n",
    "        x_train.append(feature)\n",
    "        y_train.append(label)"
   ]
  },
  {
   "cell_type": "code",
   "execution_count": 12,
   "metadata": {},
   "outputs": [],
   "source": [
    "for feature, label in validation:\n",
    "        x_val.append(feature)\n",
    "        y_val.append(label)"
   ]
  },
  {
   "cell_type": "code",
   "execution_count": 13,
   "metadata": {},
   "outputs": [],
   "source": [
    "for feature, label in test:\n",
    "        x_test.append(feature)\n",
    "        y_test.append(label)"
   ]
  },
  {
   "cell_type": "code",
   "execution_count": 18,
   "metadata": {},
   "outputs": [],
   "source": [
    "x_train = np.array(x_train)\n",
    "y_train = np.array(y_train)\n",
    "\n",
    "np.save(\"x_train.npy\",x_train)\n",
    "np.save(\"y_train.npy\",y_train)"
   ]
  },
  {
   "cell_type": "code",
   "execution_count": 19,
   "metadata": {},
   "outputs": [],
   "source": [
    "x_val = np.array(x_val)\n",
    "y_val = np.array(y_val)\n",
    "\n",
    "np.save(\"x_val.npy\",x_val)\n",
    "np.save(\"y_val.npy\",y_val)\n",
    "\n",
    "x_test = np.array(x_test)\n",
    "y_test = np.array(y_test)\n",
    "\n",
    "np.save(\"x_test.npy\",x_train)\n",
    "np.save(\"y_test.npy\",y_test)"
   ]
  },
  {
   "cell_type": "code",
   "execution_count": 22,
   "metadata": {},
   "outputs": [
    {
     "name": "stdout",
     "output_type": "stream",
     "text": [
      "Epoch 1/10\n",
      "20/20 [==============================] - 3211s 161s/step - loss: 0.9939 - accuracy: 0.4875 - val_loss: 7.6685 - val_accuracy: 0.5000\n",
      "Epoch 2/10\n",
      "20/20 [==============================] - 3205s 160s/step - loss: 0.7247 - accuracy: 0.4400 - val_loss: 7.6685 - val_accuracy: 0.5000\n",
      "Epoch 3/10\n",
      "20/20 [==============================] - 3211s 161s/step - loss: 0.6974 - accuracy: 0.5025 - val_loss: 7.6685 - val_accuracy: 0.5000\n",
      "Epoch 4/10\n",
      "20/20 [==============================] - 3208s 160s/step - loss: 0.6951 - accuracy: 0.5300 - val_loss: 6.3680 - val_accuracy: 0.5400\n",
      "Epoch 5/10\n",
      "20/20 [==============================] - 3208s 160s/step - loss: 0.6940 - accuracy: 0.5225 - val_loss: 5.1345 - val_accuracy: 0.5000\n",
      "Epoch 6/10\n",
      "20/20 [==============================] - 3205s 160s/step - loss: 0.6948 - accuracy: 0.5275 - val_loss: 1.0041 - val_accuracy: 0.5000\n",
      "Epoch 7/10\n",
      "20/20 [==============================] - 3203s 160s/step - loss: 0.6935 - accuracy: 0.4875 - val_loss: 0.7906 - val_accuracy: 0.5000\n",
      "Epoch 8/10\n",
      "20/20 [==============================] - 3200s 160s/step - loss: 0.6936 - accuracy: 0.5100 - val_loss: 0.7618 - val_accuracy: 0.5000\n",
      "Epoch 9/10\n",
      "20/20 [==============================] - 3201s 160s/step - loss: 0.6934 - accuracy: 0.5250 - val_loss: 0.7285 - val_accuracy: 0.5000\n",
      "Epoch 10/10\n",
      "20/20 [==============================] - 3202s 160s/step - loss: 0.6936 - accuracy: 0.4975 - val_loss: 0.7055 - val_accuracy: 0.4900\n",
      "CPU times: user 3d 2h 18min 30s, sys: 33min 35s, total: 3d 2h 52min 6s\n",
      "Wall time: 9h 22min 20s\n"
     ]
    },
    {
     "data": {
      "text/plain": [
       "<tensorflow.python.keras.callbacks.History at 0x7f04f40a5150>"
      ]
     },
     "execution_count": 22,
     "metadata": {},
     "output_type": "execute_result"
    }
   ],
   "source": [
    "%%time\n",
    "#model.fit(x_train,y_train,batch_size=20,validation_data=(x_val,y_val),\n",
    "         epochs=10,use_multiprocessing=True, workers=8)"
   ]
  },
  {
   "cell_type": "markdown",
   "metadata": {},
   "source": [
    "<img src=\"SRNet_Architecture.png\" alt=\"MarineGEO circle logo\" style=\"height: 600px; width:900px;\"/>"
   ]
  },
  {
   "cell_type": "code",
   "execution_count": null,
   "metadata": {},
   "outputs": [],
   "source": []
  }
 ],
 "metadata": {
  "kernelspec": {
   "display_name": "Python 3",
   "language": "python",
   "name": "python3"
  },
  "language_info": {
   "codemirror_mode": {
    "name": "ipython",
    "version": 3
   },
   "file_extension": ".py",
   "mimetype": "text/x-python",
   "name": "python",
   "nbconvert_exporter": "python",
   "pygments_lexer": "ipython3",
   "version": "3.8.2"
  }
 },
 "nbformat": 4,
 "nbformat_minor": 4
}
